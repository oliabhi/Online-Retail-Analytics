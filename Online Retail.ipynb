{
  "nbformat": 4,
  "nbformat_minor": 5,
  "metadata": {
    "kernelspec": {
      "display_name": "Python 3",
      "language": "python",
      "name": "python3"
    },
    "language_info": {
      "codemirror_mode": {
        "name": "ipython",
        "version": 3
      },
      "file_extension": ".py",
      "mimetype": "text/x-python",
      "name": "python",
      "nbconvert_exporter": "python",
      "pygments_lexer": "ipython3",
      "version": "3.8.8"
    },
    "colab": {
      "name": "001_Abhishek_Oli_dataset2_AA.ipynb",
      "provenance": []
    }
  },
  "cells": [
    {
      "cell_type": "markdown",
      "metadata": {
        "id": "AiroqoXbiFTG"
      },
      "source": [
        "# DATASET 2\n",
        " - *Abhishek Oli*\n",
        " - *E DBDA*\n",
        " - *001*\n"
      ],
      "id": "AiroqoXbiFTG"
    },
    {
      "cell_type": "code",
      "metadata": {
        "id": "97472554"
      },
      "source": [
        "import pandas as pd\n",
        "import matplotlib.pyplot as plt\n",
        "from statsmodels.tsa.arima_model import ARIMA\n",
        "from sklearn.metrics import mean_squared_error\n",
        "import numpy as np"
      ],
      "id": "97472554",
      "execution_count": null,
      "outputs": []
    },
    {
      "cell_type": "code",
      "metadata": {
        "id": "tHDpD7ZokCbN"
      },
      "source": [
        "#pip install openpyxl"
      ],
      "id": "tHDpD7ZokCbN",
      "execution_count": null,
      "outputs": []
    },
    {
      "cell_type": "code",
      "metadata": {
        "id": "q9eWOUn4kD-z"
      },
      "source": [
        "#pip install xlrd"
      ],
      "id": "q9eWOUn4kD-z",
      "execution_count": null,
      "outputs": []
    },
    {
      "cell_type": "code",
      "metadata": {
        "id": "4pW_U-_ghIu6"
      },
      "source": [
        "df = pd.read_excel('/content/dataset_2.xlsx')"
      ],
      "id": "4pW_U-_ghIu6",
      "execution_count": null,
      "outputs": []
    },
    {
      "cell_type": "code",
      "metadata": {
        "id": "4ceaad1f",
        "outputId": "deb95b26-1ef3-4098-b4e2-d0c23c54e17b"
      },
      "source": [
        "df"
      ],
      "id": "4ceaad1f",
      "execution_count": null,
      "outputs": [
        {
          "output_type": "execute_result",
          "data": {
            "text/html": [
              "<div>\n",
              "<style scoped>\n",
              "    .dataframe tbody tr th:only-of-type {\n",
              "        vertical-align: middle;\n",
              "    }\n",
              "\n",
              "    .dataframe tbody tr th {\n",
              "        vertical-align: top;\n",
              "    }\n",
              "\n",
              "    .dataframe thead th {\n",
              "        text-align: right;\n",
              "    }\n",
              "</style>\n",
              "<table border=\"1\" class=\"dataframe\">\n",
              "  <thead>\n",
              "    <tr style=\"text-align: right;\">\n",
              "      <th></th>\n",
              "      <th>InvoiceNo</th>\n",
              "      <th>StockCode</th>\n",
              "      <th>Description</th>\n",
              "      <th>Quantity</th>\n",
              "      <th>InvoiceDate</th>\n",
              "      <th>UnitPrice</th>\n",
              "      <th>CustomerID</th>\n",
              "      <th>Country</th>\n",
              "    </tr>\n",
              "  </thead>\n",
              "  <tbody>\n",
              "    <tr>\n",
              "      <th>0</th>\n",
              "      <td>536365</td>\n",
              "      <td>85123A</td>\n",
              "      <td>WHITE HANGING HEART T-LIGHT HOLDER</td>\n",
              "      <td>6</td>\n",
              "      <td>2010-12-01 08:26:00</td>\n",
              "      <td>2.55</td>\n",
              "      <td>17850.0</td>\n",
              "      <td>United Kingdom</td>\n",
              "    </tr>\n",
              "    <tr>\n",
              "      <th>1</th>\n",
              "      <td>536365</td>\n",
              "      <td>71053</td>\n",
              "      <td>WHITE METAL LANTERN</td>\n",
              "      <td>6</td>\n",
              "      <td>2010-12-01 08:26:00</td>\n",
              "      <td>3.39</td>\n",
              "      <td>17850.0</td>\n",
              "      <td>United Kingdom</td>\n",
              "    </tr>\n",
              "    <tr>\n",
              "      <th>2</th>\n",
              "      <td>536365</td>\n",
              "      <td>84406B</td>\n",
              "      <td>CREAM CUPID HEARTS COAT HANGER</td>\n",
              "      <td>8</td>\n",
              "      <td>2010-12-01 08:26:00</td>\n",
              "      <td>2.75</td>\n",
              "      <td>17850.0</td>\n",
              "      <td>United Kingdom</td>\n",
              "    </tr>\n",
              "    <tr>\n",
              "      <th>3</th>\n",
              "      <td>536365</td>\n",
              "      <td>84029G</td>\n",
              "      <td>KNITTED UNION FLAG HOT WATER BOTTLE</td>\n",
              "      <td>6</td>\n",
              "      <td>2010-12-01 08:26:00</td>\n",
              "      <td>3.39</td>\n",
              "      <td>17850.0</td>\n",
              "      <td>United Kingdom</td>\n",
              "    </tr>\n",
              "    <tr>\n",
              "      <th>4</th>\n",
              "      <td>536365</td>\n",
              "      <td>84029E</td>\n",
              "      <td>RED WOOLLY HOTTIE WHITE HEART.</td>\n",
              "      <td>6</td>\n",
              "      <td>2010-12-01 08:26:00</td>\n",
              "      <td>3.39</td>\n",
              "      <td>17850.0</td>\n",
              "      <td>United Kingdom</td>\n",
              "    </tr>\n",
              "    <tr>\n",
              "      <th>...</th>\n",
              "      <td>...</td>\n",
              "      <td>...</td>\n",
              "      <td>...</td>\n",
              "      <td>...</td>\n",
              "      <td>...</td>\n",
              "      <td>...</td>\n",
              "      <td>...</td>\n",
              "      <td>...</td>\n",
              "    </tr>\n",
              "    <tr>\n",
              "      <th>541904</th>\n",
              "      <td>581587</td>\n",
              "      <td>22613</td>\n",
              "      <td>PACK OF 20 SPACEBOY NAPKINS</td>\n",
              "      <td>12</td>\n",
              "      <td>2011-12-09 12:50:00</td>\n",
              "      <td>0.85</td>\n",
              "      <td>12680.0</td>\n",
              "      <td>France</td>\n",
              "    </tr>\n",
              "    <tr>\n",
              "      <th>541905</th>\n",
              "      <td>581587</td>\n",
              "      <td>22899</td>\n",
              "      <td>CHILDREN'S APRON DOLLY GIRL</td>\n",
              "      <td>6</td>\n",
              "      <td>2011-12-09 12:50:00</td>\n",
              "      <td>2.10</td>\n",
              "      <td>12680.0</td>\n",
              "      <td>France</td>\n",
              "    </tr>\n",
              "    <tr>\n",
              "      <th>541906</th>\n",
              "      <td>581587</td>\n",
              "      <td>23254</td>\n",
              "      <td>CHILDRENS CUTLERY DOLLY GIRL</td>\n",
              "      <td>4</td>\n",
              "      <td>2011-12-09 12:50:00</td>\n",
              "      <td>4.15</td>\n",
              "      <td>12680.0</td>\n",
              "      <td>France</td>\n",
              "    </tr>\n",
              "    <tr>\n",
              "      <th>541907</th>\n",
              "      <td>581587</td>\n",
              "      <td>23255</td>\n",
              "      <td>CHILDRENS CUTLERY CIRCUS PARADE</td>\n",
              "      <td>4</td>\n",
              "      <td>2011-12-09 12:50:00</td>\n",
              "      <td>4.15</td>\n",
              "      <td>12680.0</td>\n",
              "      <td>France</td>\n",
              "    </tr>\n",
              "    <tr>\n",
              "      <th>541908</th>\n",
              "      <td>581587</td>\n",
              "      <td>22138</td>\n",
              "      <td>BAKING SET 9 PIECE RETROSPOT</td>\n",
              "      <td>3</td>\n",
              "      <td>2011-12-09 12:50:00</td>\n",
              "      <td>4.95</td>\n",
              "      <td>12680.0</td>\n",
              "      <td>France</td>\n",
              "    </tr>\n",
              "  </tbody>\n",
              "</table>\n",
              "<p>541909 rows × 8 columns</p>\n",
              "</div>"
            ],
            "text/plain": [
              "       InvoiceNo StockCode                          Description  Quantity  \\\n",
              "0         536365    85123A   WHITE HANGING HEART T-LIGHT HOLDER         6   \n",
              "1         536365     71053                  WHITE METAL LANTERN         6   \n",
              "2         536365    84406B       CREAM CUPID HEARTS COAT HANGER         8   \n",
              "3         536365    84029G  KNITTED UNION FLAG HOT WATER BOTTLE         6   \n",
              "4         536365    84029E       RED WOOLLY HOTTIE WHITE HEART.         6   \n",
              "...          ...       ...                                  ...       ...   \n",
              "541904    581587     22613          PACK OF 20 SPACEBOY NAPKINS        12   \n",
              "541905    581587     22899         CHILDREN'S APRON DOLLY GIRL          6   \n",
              "541906    581587     23254        CHILDRENS CUTLERY DOLLY GIRL          4   \n",
              "541907    581587     23255      CHILDRENS CUTLERY CIRCUS PARADE         4   \n",
              "541908    581587     22138        BAKING SET 9 PIECE RETROSPOT          3   \n",
              "\n",
              "               InvoiceDate  UnitPrice  CustomerID         Country  \n",
              "0      2010-12-01 08:26:00       2.55     17850.0  United Kingdom  \n",
              "1      2010-12-01 08:26:00       3.39     17850.0  United Kingdom  \n",
              "2      2010-12-01 08:26:00       2.75     17850.0  United Kingdom  \n",
              "3      2010-12-01 08:26:00       3.39     17850.0  United Kingdom  \n",
              "4      2010-12-01 08:26:00       3.39     17850.0  United Kingdom  \n",
              "...                    ...        ...         ...             ...  \n",
              "541904 2011-12-09 12:50:00       0.85     12680.0          France  \n",
              "541905 2011-12-09 12:50:00       2.10     12680.0          France  \n",
              "541906 2011-12-09 12:50:00       4.15     12680.0          France  \n",
              "541907 2011-12-09 12:50:00       4.15     12680.0          France  \n",
              "541908 2011-12-09 12:50:00       4.95     12680.0          France  \n",
              "\n",
              "[541909 rows x 8 columns]"
            ]
          },
          "metadata": {
            "tags": []
          },
          "execution_count": 10
        }
      ]
    },
    {
      "cell_type": "markdown",
      "metadata": {
        "id": "1d7db7af"
      },
      "source": [
        "#  Count of unique customers"
      ],
      "id": "1d7db7af"
    },
    {
      "cell_type": "code",
      "metadata": {
        "id": "0c038944",
        "outputId": "a09d2ff3-3c44-42dc-9a68-8a54445c7eb9"
      },
      "source": [
        "df['CustomerID'].unique()"
      ],
      "id": "0c038944",
      "execution_count": null,
      "outputs": [
        {
          "output_type": "execute_result",
          "data": {
            "text/plain": [
              "array([17850., 13047., 12583., ..., 13298., 14569., 12713.])"
            ]
          },
          "metadata": {
            "tags": []
          },
          "execution_count": 14
        }
      ]
    },
    {
      "cell_type": "markdown",
      "metadata": {
        "id": "Z_quFPAWiDvc"
      },
      "source": [
        ""
      ],
      "id": "Z_quFPAWiDvc"
    },
    {
      "cell_type": "code",
      "metadata": {
        "id": "679f18b3",
        "outputId": "97c4f86e-a009-4a68-f600-8e2ac3d59f52"
      },
      "source": [
        "df['CustomerID'].nunique()"
      ],
      "id": "679f18b3",
      "execution_count": null,
      "outputs": [
        {
          "output_type": "execute_result",
          "data": {
            "text/plain": [
              "4372"
            ]
          },
          "metadata": {
            "tags": []
          },
          "execution_count": 15
        }
      ]
    },
    {
      "cell_type": "markdown",
      "metadata": {
        "id": "98faac0f"
      },
      "source": [
        "# Number of unique transactions / invoice no"
      ],
      "id": "98faac0f"
    },
    {
      "cell_type": "code",
      "metadata": {
        "id": "ce26925b",
        "outputId": "27bc87cb-e9a8-4fa0-b182-7ef7e37383cd"
      },
      "source": [
        "df['InvoiceNo'].unique()"
      ],
      "id": "ce26925b",
      "execution_count": null,
      "outputs": [
        {
          "output_type": "execute_result",
          "data": {
            "text/plain": [
              "array([536365, 536366, 536367, ..., 581585, 581586, 581587], dtype=object)"
            ]
          },
          "metadata": {
            "tags": []
          },
          "execution_count": 16
        }
      ]
    },
    {
      "cell_type": "code",
      "metadata": {
        "id": "33b7a38a",
        "outputId": "c0514b70-1283-4174-fac6-bfb7a88c0bd1"
      },
      "source": [
        "df['InvoiceNo'].nunique()"
      ],
      "id": "33b7a38a",
      "execution_count": null,
      "outputs": [
        {
          "output_type": "execute_result",
          "data": {
            "text/plain": [
              "25900"
            ]
          },
          "metadata": {
            "tags": []
          },
          "execution_count": 17
        }
      ]
    },
    {
      "cell_type": "markdown",
      "metadata": {
        "id": "65f2bbb0"
      },
      "source": [
        "# 5 most frequent customers"
      ],
      "id": "65f2bbb0"
    },
    {
      "cell_type": "code",
      "metadata": {
        "id": "818594ab",
        "outputId": "1ec11b28-5332-4dda-9b93-b0f14819a321"
      },
      "source": [
        "df['CustomerID'].groupby(df['InvoiceNo']).sum().head()"
      ],
      "id": "818594ab",
      "execution_count": null,
      "outputs": [
        {
          "output_type": "execute_result",
          "data": {
            "text/plain": [
              "InvoiceNo\n",
              "536365    124950.0\n",
              "536366     35700.0\n",
              "536367    156564.0\n",
              "536368     52188.0\n",
              "536369     13047.0\n",
              "Name: CustomerID, dtype: float64"
            ]
          },
          "metadata": {
            "tags": []
          },
          "execution_count": 22
        }
      ]
    },
    {
      "cell_type": "markdown",
      "metadata": {
        "id": "A8VGWNu6lqb-"
      },
      "source": [
        "# Take time series of daily quantity of stock code = ‘10002’. Do the prediction of daily quantity for this product using ARIMA / LR with lag values"
      ],
      "id": "A8VGWNu6lqb-"
    },
    {
      "cell_type": "code",
      "metadata": {
        "id": "41d24c31"
      },
      "source": [
        "X = df[df['StockCode'] == 10002]"
      ],
      "id": "41d24c31",
      "execution_count": null,
      "outputs": []
    },
    {
      "cell_type": "code",
      "metadata": {
        "id": "8689b993",
        "outputId": "b196b9ac-eee6-43d0-95ea-4e359a9c9c27"
      },
      "source": [
        "X.head()"
      ],
      "id": "8689b993",
      "execution_count": null,
      "outputs": [
        {
          "output_type": "execute_result",
          "data": {
            "text/html": [
              "<div>\n",
              "<style scoped>\n",
              "    .dataframe tbody tr th:only-of-type {\n",
              "        vertical-align: middle;\n",
              "    }\n",
              "\n",
              "    .dataframe tbody tr th {\n",
              "        vertical-align: top;\n",
              "    }\n",
              "\n",
              "    .dataframe thead th {\n",
              "        text-align: right;\n",
              "    }\n",
              "</style>\n",
              "<table border=\"1\" class=\"dataframe\">\n",
              "  <thead>\n",
              "    <tr style=\"text-align: right;\">\n",
              "      <th></th>\n",
              "      <th>InvoiceNo</th>\n",
              "      <th>StockCode</th>\n",
              "      <th>Description</th>\n",
              "      <th>Quantity</th>\n",
              "      <th>InvoiceDate</th>\n",
              "      <th>UnitPrice</th>\n",
              "      <th>CustomerID</th>\n",
              "      <th>Country</th>\n",
              "    </tr>\n",
              "  </thead>\n",
              "  <tbody>\n",
              "    <tr>\n",
              "      <th>31</th>\n",
              "      <td>536370</td>\n",
              "      <td>10002</td>\n",
              "      <td>INFLATABLE POLITICAL GLOBE</td>\n",
              "      <td>48</td>\n",
              "      <td>2010-12-01 08:45:00</td>\n",
              "      <td>0.85</td>\n",
              "      <td>12583.0</td>\n",
              "      <td>France</td>\n",
              "    </tr>\n",
              "    <tr>\n",
              "      <th>142</th>\n",
              "      <td>536382</td>\n",
              "      <td>10002</td>\n",
              "      <td>INFLATABLE POLITICAL GLOBE</td>\n",
              "      <td>12</td>\n",
              "      <td>2010-12-01 09:45:00</td>\n",
              "      <td>0.85</td>\n",
              "      <td>16098.0</td>\n",
              "      <td>United Kingdom</td>\n",
              "    </tr>\n",
              "    <tr>\n",
              "      <th>4272</th>\n",
              "      <td>536756</td>\n",
              "      <td>10002</td>\n",
              "      <td>INFLATABLE POLITICAL GLOBE</td>\n",
              "      <td>1</td>\n",
              "      <td>2010-12-02 14:23:00</td>\n",
              "      <td>0.85</td>\n",
              "      <td>NaN</td>\n",
              "      <td>United Kingdom</td>\n",
              "    </tr>\n",
              "    <tr>\n",
              "      <th>5466</th>\n",
              "      <td>536863</td>\n",
              "      <td>10002</td>\n",
              "      <td>INFLATABLE POLITICAL GLOBE</td>\n",
              "      <td>1</td>\n",
              "      <td>2010-12-03 11:19:00</td>\n",
              "      <td>0.85</td>\n",
              "      <td>17967.0</td>\n",
              "      <td>United Kingdom</td>\n",
              "    </tr>\n",
              "    <tr>\n",
              "      <th>5546</th>\n",
              "      <td>536865</td>\n",
              "      <td>10002</td>\n",
              "      <td>INFLATABLE POLITICAL GLOBE</td>\n",
              "      <td>5</td>\n",
              "      <td>2010-12-03 11:28:00</td>\n",
              "      <td>1.66</td>\n",
              "      <td>NaN</td>\n",
              "      <td>United Kingdom</td>\n",
              "    </tr>\n",
              "  </tbody>\n",
              "</table>\n",
              "</div>"
            ],
            "text/plain": [
              "     InvoiceNo StockCode                  Description  Quantity  \\\n",
              "31      536370     10002  INFLATABLE POLITICAL GLOBE         48   \n",
              "142     536382     10002  INFLATABLE POLITICAL GLOBE         12   \n",
              "4272    536756     10002  INFLATABLE POLITICAL GLOBE          1   \n",
              "5466    536863     10002  INFLATABLE POLITICAL GLOBE          1   \n",
              "5546    536865     10002  INFLATABLE POLITICAL GLOBE          5   \n",
              "\n",
              "             InvoiceDate  UnitPrice  CustomerID         Country  \n",
              "31   2010-12-01 08:45:00       0.85     12583.0          France  \n",
              "142  2010-12-01 09:45:00       0.85     16098.0  United Kingdom  \n",
              "4272 2010-12-02 14:23:00       0.85         NaN  United Kingdom  \n",
              "5466 2010-12-03 11:19:00       0.85     17967.0  United Kingdom  \n",
              "5546 2010-12-03 11:28:00       1.66         NaN  United Kingdom  "
            ]
          },
          "metadata": {
            "tags": []
          },
          "execution_count": 27
        }
      ]
    },
    {
      "cell_type": "code",
      "metadata": {
        "id": "52563b86",
        "outputId": "55f3007c-b7b6-478f-86c5-0d351ecaac02"
      },
      "source": [
        "X.info()"
      ],
      "id": "52563b86",
      "execution_count": null,
      "outputs": [
        {
          "output_type": "stream",
          "text": [
            "<class 'pandas.core.frame.DataFrame'>\n",
            "Int64Index: 73 entries, 31 to 171573\n",
            "Data columns (total 8 columns):\n",
            " #   Column       Non-Null Count  Dtype         \n",
            "---  ------       --------------  -----         \n",
            " 0   InvoiceNo    73 non-null     object        \n",
            " 1   StockCode    73 non-null     object        \n",
            " 2   Description  71 non-null     object        \n",
            " 3   Quantity     73 non-null     int64         \n",
            " 4   InvoiceDate  73 non-null     datetime64[ns]\n",
            " 5   UnitPrice    73 non-null     float64       \n",
            " 6   CustomerID   49 non-null     float64       \n",
            " 7   Country      73 non-null     object        \n",
            "dtypes: datetime64[ns](1), float64(2), int64(1), object(4)\n",
            "memory usage: 5.1+ KB\n"
          ],
          "name": "stdout"
        }
      ]
    },
    {
      "cell_type": "code",
      "metadata": {
        "id": "caba0357",
        "outputId": "f53b69fb-78a1-4825-e02e-36d9dafb334c"
      },
      "source": [
        "X['InvoiceNo'].plot()"
      ],
      "id": "caba0357",
      "execution_count": null,
      "outputs": [
        {
          "output_type": "execute_result",
          "data": {
            "text/plain": [
              "<AxesSubplot:>"
            ]
          },
          "metadata": {
            "tags": []
          },
          "execution_count": 32
        },
        {
          "output_type": "display_data",
          "data": {
            "image/png": "[encoded data removed]",
            "text/plain": [
              "<Figure size 432x288 with 1 Axes>"
            ]
          },
          "metadata": {
            "tags": [],
            "needs_background": "light"
          }
        }
      ]
    },
    {
      "cell_type": "code",
      "metadata": {
        "id": "9cfb7d03"
      },
      "source": [
        "X.sort_index(inplace=True)"
      ],
      "id": "9cfb7d03",
      "execution_count": null,
      "outputs": []
    },
    {
      "cell_type": "code",
      "metadata": {
        "id": "3217294b",
        "outputId": "e5dc451c-9df1-4148-e851-57a2868eec3c"
      },
      "source": [
        "X.head()"
      ],
      "id": "3217294b",
      "execution_count": null,
      "outputs": [
        {
          "output_type": "execute_result",
          "data": {
            "text/html": [
              "<div>\n",
              "<style scoped>\n",
              "    .dataframe tbody tr th:only-of-type {\n",
              "        vertical-align: middle;\n",
              "    }\n",
              "\n",
              "    .dataframe tbody tr th {\n",
              "        vertical-align: top;\n",
              "    }\n",
              "\n",
              "    .dataframe thead th {\n",
              "        text-align: right;\n",
              "    }\n",
              "</style>\n",
              "<table border=\"1\" class=\"dataframe\">\n",
              "  <thead>\n",
              "    <tr style=\"text-align: right;\">\n",
              "      <th></th>\n",
              "      <th>InvoiceNo</th>\n",
              "      <th>StockCode</th>\n",
              "      <th>Description</th>\n",
              "      <th>Quantity</th>\n",
              "      <th>InvoiceDate</th>\n",
              "      <th>UnitPrice</th>\n",
              "      <th>CustomerID</th>\n",
              "      <th>Country</th>\n",
              "    </tr>\n",
              "  </thead>\n",
              "  <tbody>\n",
              "    <tr>\n",
              "      <th>31</th>\n",
              "      <td>536370</td>\n",
              "      <td>10002</td>\n",
              "      <td>INFLATABLE POLITICAL GLOBE</td>\n",
              "      <td>48</td>\n",
              "      <td>2010-12-01 08:45:00</td>\n",
              "      <td>0.85</td>\n",
              "      <td>12583.0</td>\n",
              "      <td>France</td>\n",
              "    </tr>\n",
              "    <tr>\n",
              "      <th>142</th>\n",
              "      <td>536382</td>\n",
              "      <td>10002</td>\n",
              "      <td>INFLATABLE POLITICAL GLOBE</td>\n",
              "      <td>12</td>\n",
              "      <td>2010-12-01 09:45:00</td>\n",
              "      <td>0.85</td>\n",
              "      <td>16098.0</td>\n",
              "      <td>United Kingdom</td>\n",
              "    </tr>\n",
              "    <tr>\n",
              "      <th>4272</th>\n",
              "      <td>536756</td>\n",
              "      <td>10002</td>\n",
              "      <td>INFLATABLE POLITICAL GLOBE</td>\n",
              "      <td>1</td>\n",
              "      <td>2010-12-02 14:23:00</td>\n",
              "      <td>0.85</td>\n",
              "      <td>NaN</td>\n",
              "      <td>United Kingdom</td>\n",
              "    </tr>\n",
              "    <tr>\n",
              "      <th>5466</th>\n",
              "      <td>536863</td>\n",
              "      <td>10002</td>\n",
              "      <td>INFLATABLE POLITICAL GLOBE</td>\n",
              "      <td>1</td>\n",
              "      <td>2010-12-03 11:19:00</td>\n",
              "      <td>0.85</td>\n",
              "      <td>17967.0</td>\n",
              "      <td>United Kingdom</td>\n",
              "    </tr>\n",
              "    <tr>\n",
              "      <th>5546</th>\n",
              "      <td>536865</td>\n",
              "      <td>10002</td>\n",
              "      <td>INFLATABLE POLITICAL GLOBE</td>\n",
              "      <td>5</td>\n",
              "      <td>2010-12-03 11:28:00</td>\n",
              "      <td>1.66</td>\n",
              "      <td>NaN</td>\n",
              "      <td>United Kingdom</td>\n",
              "    </tr>\n",
              "  </tbody>\n",
              "</table>\n",
              "</div>"
            ],
            "text/plain": [
              "     InvoiceNo StockCode                  Description  Quantity  \\\n",
              "31      536370     10002  INFLATABLE POLITICAL GLOBE         48   \n",
              "142     536382     10002  INFLATABLE POLITICAL GLOBE         12   \n",
              "4272    536756     10002  INFLATABLE POLITICAL GLOBE          1   \n",
              "5466    536863     10002  INFLATABLE POLITICAL GLOBE          1   \n",
              "5546    536865     10002  INFLATABLE POLITICAL GLOBE          5   \n",
              "\n",
              "             InvoiceDate  UnitPrice  CustomerID         Country  \n",
              "31   2010-12-01 08:45:00       0.85     12583.0          France  \n",
              "142  2010-12-01 09:45:00       0.85     16098.0  United Kingdom  \n",
              "4272 2010-12-02 14:23:00       0.85         NaN  United Kingdom  \n",
              "5466 2010-12-03 11:19:00       0.85     17967.0  United Kingdom  \n",
              "5546 2010-12-03 11:28:00       1.66         NaN  United Kingdom  "
            ]
          },
          "metadata": {
            "tags": []
          },
          "execution_count": 34
        }
      ]
    },
    {
      "cell_type": "code",
      "metadata": {
        "id": "109988c5",
        "outputId": "f4d9b5d5-b235-41dc-dd2f-8470f28b27bb"
      },
      "source": [
        "from statsmodels.tsa.stattools import adfuller\n",
        "# ADF Test\n",
        "#Augmented Dickey–Fuller test\n",
        "result = adfuller( X['InvoiceNo'].values, autolag='AIC')\n",
        "\n",
        "print(f'ADF Statistic: {result[0]}')\n",
        "print(f'p-value: {result[1]}')\n",
        "for key, value in result[4].items():\n",
        "    print('Critial Values:')\n",
        "    print(f'   {key}, {value}')"
      ],
      "id": "109988c5",
      "execution_count": null,
      "outputs": [
        {
          "output_type": "stream",
          "text": [
            "ADF Statistic: 3.0258308924504065\n",
            "p-value: 1.0\n",
            "Critial Values:\n",
            "   1%, -3.540522678829176\n",
            "Critial Values:\n",
            "   5%, -2.9094272025108254\n",
            "Critial Values:\n",
            "   10%, -2.5923136524453696\n"
          ],
          "name": "stdout"
        }
      ]
    },
    {
      "cell_type": "code",
      "metadata": {
        "id": "6be96d71",
        "outputId": "ec4ec1b6-e870-4a6a-c9ae-10105c83cf40"
      },
      "source": [
        "X['InvoiceNo_DeTending'] = X['InvoiceNo'] - X['InvoiceNo'].shift()"
      ],
      "id": "6be96d71",
      "execution_count": null,
      "outputs": [
        {
          "output_type": "stream",
          "text": [
            "<ipython-input-37-4952e1808b7f>:1: SettingWithCopyWarning: \n",
            "A value is trying to be set on a copy of a slice from a DataFrame.\n",
            "Try using .loc[row_indexer,col_indexer] = value instead\n",
            "\n",
            "See the caveats in the documentation: https://pandas.pydata.org/pandas-docs/stable/user_guide/indexing.html#returning-a-view-versus-a-copy\n",
            "  X['InvoiceNo_DeTending'] = X['InvoiceNo'] - X['InvoiceNo'].shift()\n"
          ],
          "name": "stderr"
        }
      ]
    },
    {
      "cell_type": "code",
      "metadata": {
        "id": "9892a993",
        "outputId": "82739d10-a736-4d18-b2fa-7f37dbc30727"
      },
      "source": [
        "X['InvoiceNo_DeTending'].head()"
      ],
      "id": "9892a993",
      "execution_count": null,
      "outputs": [
        {
          "output_type": "execute_result",
          "data": {
            "text/plain": [
              "31      NaN\n",
              "142      12\n",
              "4272    374\n",
              "5466    107\n",
              "5546      2\n",
              "Name: InvoiceNo_DeTending, dtype: object"
            ]
          },
          "metadata": {
            "tags": []
          },
          "execution_count": 38
        }
      ]
    },
    {
      "cell_type": "code",
      "metadata": {
        "id": "7fe4e9a1",
        "outputId": "f9ea4e57-c1f7-44b5-88da-795b6f6785e5"
      },
      "source": [
        "X['InvoiceNo_DeTending'].fillna(X['InvoiceNo_DeTending'].median(),inplace=True)"
      ],
      "id": "7fe4e9a1",
      "execution_count": null,
      "outputs": [
        {
          "output_type": "stream",
          "text": [
            "C:\\Users\\prate\\anaconda3\\lib\\site-packages\\pandas\\core\\series.py:4463: SettingWithCopyWarning: \n",
            "A value is trying to be set on a copy of a slice from a DataFrame\n",
            "\n",
            "See the caveats in the documentation: https://pandas.pydata.org/pandas-docs/stable/user_guide/indexing.html#returning-a-view-versus-a-copy\n",
            "  return super().fillna(\n"
          ],
          "name": "stderr"
        }
      ]
    },
    {
      "cell_type": "code",
      "metadata": {
        "id": "99ab7a7b",
        "outputId": "0b9c0d7b-ab9c-4fa1-d88b-2c88a54ac984"
      },
      "source": [
        "X['InvoiceNo_DeTending'].plot()"
      ],
      "id": "99ab7a7b",
      "execution_count": null,
      "outputs": [
        {
          "output_type": "execute_result",
          "data": {
            "text/plain": [
              "<AxesSubplot:>"
            ]
          },
          "metadata": {
            "tags": []
          },
          "execution_count": 58
        },
        {
          "output_type": "display_data",
          "data": {
            "image/png": "[encoded data removed]",
            "text/plain": [
              "<Figure size 432x288 with 1 Axes>"
            ]
          },
          "metadata": {
            "tags": [],
            "needs_background": "light"
          }
        }
      ]
    },
    {
      "cell_type": "code",
      "metadata": {
        "colab": {
          "base_uri": "https://localhost:8080/"
        },
        "id": "zy5NktmSgU2L",
        "outputId": "bad052a1-f724-47b8-89cc-0ab43f8eb744"
      },
      "source": [
        "pip install pmdarima"
      ],
      "id": "zy5NktmSgU2L",
      "execution_count": null,
      "outputs": [
        {
          "output_type": "stream",
          "text": [
            "Collecting pmdarima\n",
            "  Downloading pmdarima-1.8.2-cp37-cp37m-manylinux1_x86_64.whl (1.5 MB)\n",
            "\u001b[K     |████████████████████████████████| 1.5 MB 4.9 MB/s \n",
            "\u001b[?25hRequirement already satisfied: scipy>=1.3.2 in /usr/local/lib/python3.7/dist-packages (from pmdarima) (1.4.1)\n",
            "Collecting statsmodels!=0.12.0,>=0.11\n",
            "  Downloading statsmodels-0.12.2-cp37-cp37m-manylinux1_x86_64.whl (9.5 MB)\n",
            "\u001b[K     |████████████████████████████████| 9.5 MB 32.1 MB/s \n",
            "\u001b[?25hRequirement already satisfied: numpy~=1.19.0 in /usr/local/lib/python3.7/dist-packages (from pmdarima) (1.19.5)\n",
            "Requirement already satisfied: scikit-learn>=0.22 in /usr/local/lib/python3.7/dist-packages (from pmdarima) (0.22.2.post1)\n",
            "Requirement already satisfied: setuptools!=50.0.0,>=38.6.0 in /usr/local/lib/python3.7/dist-packages (from pmdarima) (57.2.0)\n",
            "Requirement already satisfied: pandas>=0.19 in /usr/local/lib/python3.7/dist-packages (from pmdarima) (1.1.5)\n",
            "Requirement already satisfied: joblib>=0.11 in /usr/local/lib/python3.7/dist-packages (from pmdarima) (1.0.1)\n",
            "Requirement already satisfied: Cython!=0.29.18,>=0.29 in /usr/local/lib/python3.7/dist-packages (from pmdarima) (0.29.23)\n",
            "Requirement already satisfied: urllib3 in /usr/local/lib/python3.7/dist-packages (from pmdarima) (1.24.3)\n",
            "Requirement already satisfied: pytz>=2017.2 in /usr/local/lib/python3.7/dist-packages (from pandas>=0.19->pmdarima) (2018.9)\n",
            "Requirement already satisfied: python-dateutil>=2.7.3 in /usr/local/lib/python3.7/dist-packages (from pandas>=0.19->pmdarima) (2.8.1)\n",
            "Requirement already satisfied: six>=1.5 in /usr/local/lib/python3.7/dist-packages (from python-dateutil>=2.7.3->pandas>=0.19->pmdarima) (1.15.0)\n",
            "Requirement already satisfied: patsy>=0.5 in /usr/local/lib/python3.7/dist-packages (from statsmodels!=0.12.0,>=0.11->pmdarima) (0.5.1)\n",
            "Installing collected packages: statsmodels, pmdarima\n",
            "  Attempting uninstall: statsmodels\n",
            "    Found existing installation: statsmodels 0.10.2\n",
            "    Uninstalling statsmodels-0.10.2:\n",
            "      Successfully uninstalled statsmodels-0.10.2\n",
            "Successfully installed pmdarima-1.8.2 statsmodels-0.12.2\n"
          ],
          "name": "stdout"
        }
      ]
    },
    {
      "cell_type": "code",
      "metadata": {
        "id": "ff7e8353"
      },
      "source": [
        "from pmdarima.model_selection import train_test_split\n",
        "train, test = train_test_split(X['InvoiceNo_DeTending'], train_size=int(0.7 * X.shape[0]))"
      ],
      "id": "ff7e8353",
      "execution_count": null,
      "outputs": []
    },
    {
      "cell_type": "code",
      "metadata": {
        "id": "3bb1cbcf"
      },
      "source": [
        "#Apply Arima\n",
        "from statsmodels.tsa.arima_model import ARIMA"
      ],
      "id": "3bb1cbcf",
      "execution_count": null,
      "outputs": []
    },
    {
      "cell_type": "code",
      "metadata": {
        "id": "254e7a86",
        "outputId": "2fbe5c18-299c-4f0a-b2d6-c76038e642f5"
      },
      "source": [
        "from sklearn.metrics import mean_squared_error\n",
        "data=np.asarray(train)\n",
        "test1 = np.asarray(test)\n",
        "data\n",
        "test1"
      ],
      "id": "254e7a86",
      "execution_count": null,
      "outputs": [
        {
          "output_type": "execute_result",
          "data": {
            "text/plain": [
              "array([ 444.,  627.,  395.,    4.,   73.,  356.,  301.,  381.,  321.,\n",
              "         80.,  932.,  141.,  273.,  160.,  506.,  557.,  320.,   96.,\n",
              "         12., 1558.,  180.,  977.])"
            ]
          },
          "metadata": {
            "tags": []
          },
          "execution_count": 75
        }
      ]
    },
    {
      "cell_type": "code",
      "metadata": {
        "id": "7e1c8b25",
        "outputId": "2a232fa7-27fc-4401-8ece-82a1db675984"
      },
      "source": [
        "model_arima = ARIMA(data,order=(1,0,0))\n"
      ],
      "id": "7e1c8b25",
      "execution_count": null,
      "outputs": [
        {
          "output_type": "stream",
          "text": [
            "C:\\Users\\prate\\anaconda3\\lib\\site-packages\\statsmodels\\tsa\\arima_model.py:472: FutureWarning: \n",
            "statsmodels.tsa.arima_model.ARMA and statsmodels.tsa.arima_model.ARIMA have\n",
            "been deprecated in favor of statsmodels.tsa.arima.model.ARIMA (note the .\n",
            "between arima and model) and\n",
            "statsmodels.tsa.SARIMAX. These will be removed after the 0.12 release.\n",
            "\n",
            "statsmodels.tsa.arima.model.ARIMA makes use of the statespace framework and\n",
            "is both well tested and maintained.\n",
            "\n",
            "To silence this warning and continue using ARMA and ARIMA until they are\n",
            "removed, use:\n",
            "\n",
            "import warnings\n",
            "warnings.filterwarnings('ignore', 'statsmodels.tsa.arima_model.ARMA',\n",
            "                        FutureWarning)\n",
            "warnings.filterwarnings('ignore', 'statsmodels.tsa.arima_model.ARIMA',\n",
            "                        FutureWarning)\n",
            "\n",
            "  warnings.warn(ARIMA_DEPRECATION_WARN, FutureWarning)\n"
          ],
          "name": "stderr"
        }
      ]
    },
    {
      "cell_type": "code",
      "metadata": {
        "id": "dc568a0c"
      },
      "source": [
        "\n",
        "train_size = int(0.70* X.shape[0])\n",
        "test_size = df.shape[0] - train_size"
      ],
      "id": "dc568a0c",
      "execution_count": null,
      "outputs": []
    },
    {
      "cell_type": "code",
      "metadata": {
        "id": "114821ff",
        "outputId": "e89adc28-869f-4a50-b225-b3215eb6b7e3"
      },
      "source": [
        "model_arima_fit= model_arima.fit()\n",
        "predict = model_arima_fit.forecast(test_size)\n",
        "predict"
      ],
      "id": "114821ff",
      "execution_count": null,
      "outputs": [
        {
          "output_type": "execute_result",
          "data": {
            "text/plain": [
              "(array([130.33487165, 126.54171533, 127.13296706, ..., 127.05323483,\n",
              "        127.05323483, 127.05323483]),\n",
              " array([142.71809203, 144.44146055, 144.48307655, ..., 144.4841127 ,\n",
              "        144.4841127 , 144.4841127 ]),\n",
              " array([[-149.38744868,  410.05719197],\n",
              "        [-156.55834521,  409.64177588],\n",
              "        [-156.04865935,  410.31459347],\n",
              "        ...,\n",
              "        [-156.13042239,  410.23689206],\n",
              "        [-156.13042239,  410.23689206],\n",
              "        [-156.13042239,  410.23689206]]))"
            ]
          },
          "metadata": {
            "tags": []
          },
          "execution_count": 77
        }
      ]
    },
    {
      "cell_type": "code",
      "metadata": {
        "id": "f561be42",
        "outputId": "153062e4-ed76-44d7-eb07-4ec82293d20a"
      },
      "source": [
        "plt.plot(range(predict[0].shape[0]),predict[0])"
      ],
      "id": "f561be42",
      "execution_count": null,
      "outputs": [
        {
          "output_type": "execute_result",
          "data": {
            "text/plain": [
              "[<matplotlib.lines.Line2D at 0x1af48e0c880>]"
            ]
          },
          "metadata": {
            "tags": []
          },
          "execution_count": 78
        },
        {
          "output_type": "display_data",
          "data": {
            "image/png": "[encoded data removed]",
            "text/plain": [
              "<Figure size 432x288 with 1 Axes>"
            ]
          },
          "metadata": {
            "tags": [],
            "needs_background": "light"
          }
        }
      ]
    },
    {
      "cell_type": "code",
      "metadata": {
        "id": "87dbf0db",
        "outputId": "6e13b346-c8fb-4107-ef2d-2dd8bc9d3b8a"
      },
      "source": [
        "plt.plot(range(predict[1].shape[0]),predict[1])"
      ],
      "id": "87dbf0db",
      "execution_count": null,
      "outputs": [
        {
          "output_type": "execute_result",
          "data": {
            "text/plain": [
              "[<matplotlib.lines.Line2D at 0x1af48a82df0>]"
            ]
          },
          "metadata": {
            "tags": []
          },
          "execution_count": 79
        },
        {
          "output_type": "display_data",
          "data": {
            "image/png": "[encoded data removed]",
            "text/plain": [
              "<Figure size 432x288 with 1 Axes>"
            ]
          },
          "metadata": {
            "tags": [],
            "needs_background": "light"
          }
        }
      ]
    },
    {
      "cell_type": "code",
      "metadata": {
        "id": "05a74c69",
        "outputId": "f2277e3d-aff0-432a-8259-53cc87b0610f"
      },
      "source": [
        "plt.plot(range(predict[2].shape[0]),predict[2])"
      ],
      "id": "05a74c69",
      "execution_count": null,
      "outputs": [
        {
          "output_type": "execute_result",
          "data": {
            "text/plain": [
              "[<matplotlib.lines.Line2D at 0x1af4938c280>,\n",
              " <matplotlib.lines.Line2D at 0x1af4938c340>]"
            ]
          },
          "metadata": {
            "tags": []
          },
          "execution_count": 80
        },
        {
          "output_type": "display_data",
          "data": {
            "image/png": "[encoded data removed]",
            "text/plain": [
              "<Figure size 432x288 with 1 Axes>"
            ]
          },
          "metadata": {
            "tags": [],
            "needs_background": "light"
          }
        }
      ]
    },
    {
      "cell_type": "code",
      "metadata": {
        "id": "05c3acd9"
      },
      "source": [
        ""
      ],
      "id": "05c3acd9",
      "execution_count": null,
      "outputs": []
    }
  ]
}